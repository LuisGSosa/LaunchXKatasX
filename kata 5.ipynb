{
 "cells": [
  {
   "cell_type": "markdown",
   "metadata": {},
   "source": [
    "# Ejercicio1 - Utilizar operadores aritméticos"
   ]
  },
  {
   "cell_type": "code",
   "execution_count": 2,
   "metadata": {},
   "outputs": [
    {
     "name": "stdout",
     "output_type": "stream",
     "text": [
      "Kilometros: 628949330\n",
      "millas:  390577533.93\n"
     ]
    }
   ],
   "source": [
    "dis_tierra=149597870\n",
    "dis_jupiter=778547200\n",
    "\n",
    "distancia_planetas = dis_jupiter - dis_tierra\n",
    "print(\"Kilometros:\" ,distancia_planetas)\n",
    "\n",
    "millas = distancia_planetas*0.621\n",
    "\n",
    "print (\"millas: \",millas)"
   ]
  },
  {
   "cell_type": "markdown",
   "metadata": {},
   "source": [
    "# Ejercicio 2: convierte cadenas en números y usa valores absolutos"
   ]
  },
  {
   "cell_type": "markdown",
   "metadata": {},
   "source": [
    "\n",
    "Planeta\tDistancia al sol\n",
    "Mercurio\t57900000\n",
    "Venus\t108200000\n",
    "Tierra\t149600000\n",
    "Marte\t227900000\n",
    "Júpiter\t778600000\n",
    "Saturno\t1433500000\n",
    "Urano\t2872500000\n",
    "Neptuno\t4495100000"
   ]
  },
  {
   "cell_type": "code",
   "execution_count": 6,
   "metadata": {},
   "outputs": [
    {
     "name": "stdout",
     "output_type": "stream",
     "text": [
      "50300000\n",
      "31236300.0\n"
     ]
    }
   ],
   "source": [
    "# Almacenar las entradas del usuario\n",
    "planeta1 = input(\"¿Cuál es la distancia de tu primer planeta?\")\n",
    "\n",
    "planeta2 = input(\"¿Cuál es la distancia de tu segundo planeta?\")\n",
    "\n",
    "# Convierte las cadenas de ambos planetas a números enteros\n",
    "\n",
    "planeta1 = int(planeta1)\n",
    "planeta2 = int(planeta2)\n",
    "\n",
    "# Realizar el cálculo y determinar el valor absoluto\n",
    "distancia_km = planeta1 - planeta2\n",
    "print(abs(distancia_km))\n",
    "\n",
    "# Convertir de KM a Millas\n",
    "distancia_mi = distancia_km * 0.621\n",
    "print(abs(distancia_mi))\n"
   ]
  }
 ],
 "metadata": {
  "interpreter": {
   "hash": "48fe5cad91cff50253c274e0b51ab85747265d174788b96669a1d4e7fe36aff0"
  },
  "kernelspec": {
   "display_name": "Python 3.10.2 64-bit",
   "language": "python",
   "name": "python3"
  },
  "language_info": {
   "codemirror_mode": {
    "name": "ipython",
    "version": 3
   },
   "file_extension": ".py",
   "mimetype": "text/x-python",
   "name": "python",
   "nbconvert_exporter": "python",
   "pygments_lexer": "ipython3",
   "version": "3.10.2"
  },
  "orig_nbformat": 4
 },
 "nbformat": 4,
 "nbformat_minor": 2
}
