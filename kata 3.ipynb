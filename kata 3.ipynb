{
 "cells": [
  {
   "cell_type": "markdown",
   "metadata": {},
   "source": [
    "# Ejercicio - Escribir declaraciones if, else, y elif"
   ]
  },
  {
   "cell_type": "code",
   "execution_count": 5,
   "metadata": {},
   "outputs": [
    {
     "name": "stdout",
     "output_type": "stream",
     "text": [
      "10 numero es mayor 5\n"
     ]
    }
   ],
   "source": [
    "if 10>5:\n",
    "    print (\"10 numero es mayor 5\")"
   ]
  },
  {
   "cell_type": "code",
   "execution_count": 13,
   "metadata": {},
   "outputs": [
    {
     "name": "stdout",
     "output_type": "stream",
     "text": [
      "10 numero es mayor 5\n",
      "Son iguales\n"
     ]
    }
   ],
   "source": [
    "\n",
    "if 10>5:\n",
    "    print (\"10 numero es mayor 5\")\n",
    "    if 10<5:\n",
    "        print (\"10 numero es mayor 5\")\n",
    "    else: \n",
    "        print (\"Son iguales\")\n",
    "elif 5>10:\n",
    "    print (\"5 es menor a 10\")\n",
    "else:\n",
    "    print (\"Todo bien\")\n"
   ]
  },
  {
   "cell_type": "markdown",
   "metadata": {},
   "source": [
    "Para este ejercicio, escribirás una lógica condicional que imprima una advertencia si un asteroide se acerca a la Tierra demasiado rápido. La velocidad del asteroide varía dependiendo de lo cerca que esté del sol, y cualquier velocidad superior a 25 kilómetros por segundo (km/s) merece una advertencia.\n",
    "\n",
    "Un asteroide se acerca, y viaja a una velocidad de 49 km/s."
   ]
  },
  {
   "cell_type": "markdown",
   "metadata": {},
   "source": [
    "#Añadir el código necesario para crear una variable que guarde la velocidad del asteroide.\n",
    "\n",
    "#Escribe una expresión de prueba para calcular si necesita una advertencia.\n",
    "\n",
    "#Agregue las instrucciones que se ejecutarán si la expresión de prueba es true o false."
   ]
  },
  {
   "cell_type": "code",
   "execution_count": 15,
   "metadata": {},
   "outputs": [
    {
     "name": "stdout",
     "output_type": "stream",
     "text": [
      "Todo bien\n"
     ]
    }
   ],
   "source": [
    "velocidad_asteroide = 49\n",
    "\n",
    "if velocidad_asteroide>25:\n",
    "        print(\"Un asteoroide se acerca a la Tierra demasiado rápido\")\n",
    "else:\n",
    "        print(\"Todo bien\")\n"
   ]
  },
  {
   "cell_type": "markdown",
   "metadata": {},
   "source": [
    "Si un asteroide entra en la atmósfera de la Tierra a una velocidad mayor o igual a 20 km/s, a veces produce un rayo de luz que se puede ver desde la Tierra. Escribe la lógica condicional que usa declaraciones if, else, y elif para alertar a las personas de todo el mundo que deben buscar un asteroide en el cielo. ¡Hay uno que se dirige a la tierra ahora a una velocidad de 19 km/s!\n",
    "\n",
    "Agrega el código para crear una variable para un asteroide que viaja a 19 km/s\n",
    "\n",
    "Escribe varias expresiones de prueba para determinar si puedes ver el rayo de luz desde la tierra\n",
    "\n",
    "Agrega las instrucciones que se ejecutarán si las expresiones de prueba son True o False"
   ]
  },
  {
   "cell_type": "code",
   "execution_count": 20,
   "metadata": {},
   "outputs": [
    {
     "name": "stdout",
     "output_type": "stream",
     "text": [
      "Nada nuevo\n"
     ]
    }
   ],
   "source": [
    "velocidad_asteroide = 19\n",
    "\n",
    "if velocidad_asteroide>=20:\n",
    "    print (\"Se puede ver el rayo de luz\")\n",
    "elif velocidad_asteroide<=20:\n",
    "    print (\"Nada nuevo\")\n",
    "else:\n",
    "    print (\"Marcianos nos atacan\")\n",
    "    \n"
   ]
  },
  {
   "cell_type": "markdown",
   "metadata": {},
   "source": [
    "En este ejercicio, aprenderás información más matizada sobre cuándo los asteroides representan un peligro para la Tierra, y utilizarás esa información para mejorar nuestro sistema de advertencia. Aquí está la nueva información que necesitas saber:\n",
    "\n",
    "*Los asteroides de menos de 25 metros en su dimensión más grande probablemente se quemarán a medida que entren en la atmósfera de la Tierra.\n",
    "\n",
    "Si una pieza de un asteroide que es más grande que 25 metros pero más pequeña que 1000 metros golpeara la Tierra, causaría mucho daño.\n",
    "También discutimos en el ejercicio anterior que:\n",
    "\n",
    "La velocidad del asteroide varía en función de lo cerca que esté del sol, y cualquier velocidad superior a 25 kilómetros por segundo (km/s) merece una advertencia.\n",
    "Si un asteroide entra en la atmósfera de la Tierra a una velocidad mayor o igual a 20 km/s, a veces produce un rayo de luz que se puede ver desde la Tierra.\n",
    "Usando toda esta información, escribe un programa que emita la advertencia o información correcta a la gente de la Tierra, según la velocidad y el tamaño de un asteroide. Utiliza instrucciones if, else, y elif, así como los operadores and y or."
   ]
  },
  {
   "cell_type": "markdown",
   "metadata": {},
   "source": [
    "#Agrega el código para crear nuevas variables para la velocidad y el tamaño del asteroide\n",
    "\n",
    "#Para probar el código, prueba con varias velocidades y tamaños\n",
    "\n",
    "#Escribe varias expresiones de prueba o combinaciones de expresiones de prueba para determinar qué mensaje se debe enviar a Tierra."
   ]
  },
  {
   "cell_type": "code",
   "execution_count": 23,
   "metadata": {},
   "outputs": [
    {
     "name": "stdout",
     "output_type": "stream",
     "text": [
      "Todo bien\n"
     ]
    }
   ],
   "source": [
    "asteroide_velocidad = 20\n",
    "asteroide_tamano = 25\n",
    "\n",
    "\n",
    "if asteroide_velocidad>=20 and asteroide_tamano>=25:\n",
    "    print(\"Ponte a rezar por que se va a terminal el mundo\")\n",
    "elif asteroide_velocidad>=20 or asteroide_tamano>=25:\n",
    "    print (\"El asteroide va a causar daños a la tierra\")\n",
    "else:\n",
    "    print(\"Todo bien\")"
   ]
  }
 ],
 "metadata": {
  "interpreter": {
   "hash": "48fe5cad91cff50253c274e0b51ab85747265d174788b96669a1d4e7fe36aff0"
  },
  "kernelspec": {
   "display_name": "Python 3.10.2 64-bit",
   "language": "python",
   "name": "python3"
  },
  "language_info": {
   "codemirror_mode": {
    "name": "ipython",
    "version": 3
   },
   "file_extension": ".py",
   "mimetype": "text/x-python",
   "name": "python",
   "nbconvert_exporter": "python",
   "pygments_lexer": "ipython3",
   "version": "3.10.2"
  },
  "orig_nbformat": 4
 },
 "nbformat": 4,
 "nbformat_minor": 2
}
