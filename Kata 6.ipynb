{
 "cells": [
  {
   "cell_type": "markdown",
   "metadata": {},
   "source": [
    "# Ejercicio1: Crear y usar listas de Python"
   ]
  },
  {
   "cell_type": "code",
   "execution_count": 6,
   "metadata": {},
   "outputs": [
    {
     "name": "stdout",
     "output_type": "stream",
     "text": [
      "El ultimo planeta Pluton\n"
     ]
    }
   ],
   "source": [
    "# Creamos la lista planets y la mostramos\n",
    "planets = ['Mercurio', 'Venus', 'Tierra', 'Marte', 'Jupiter', 'Saturno', 'Neptuno','Pluton']\n",
    "\n",
    "# Agregamos a plutón y mostramos el último elemento\n",
    "\n",
    "print('El ultimo planeta es', (planets[-1]))"
   ]
  },
  {
   "cell_type": "markdown",
   "metadata": {},
   "source": [
    "# Ejercicio 2: Trabajando con datos de una lista\n",
    "\n",
    "Usar slices para recuperar partes de una lista\n",
    "\n",
    "Es posible que debas trabajar con diferentes secciones de una lista. \n",
    "En nuestro ejemplo, queremos mostrar planetas más cerca y más lejos\n",
    " del sol de un planeta que el usuario ingresa por teclado."
   ]
  },
  {
   "cell_type": "code",
   "execution_count": 1,
   "metadata": {},
   "outputs": [
    {
     "name": "stdout",
     "output_type": "stream",
     "text": [
      "Indice de planeta 1\n",
      "Planetas mas cercanos Venus\n",
      "['Mercurio']\n",
      "Planetas mas lejanos Venus\n",
      "['Tierra', 'Marte', 'Jupiter', 'Saturno', 'Neptuno', 'Pluton']\n"
     ]
    }
   ],
   "source": [
    "# Lista de planetas\n",
    "planets = ['Mercurio', 'Venus', 'Tierra', 'Marte', 'Jupiter', 'Saturno', 'Neptuno','Pluton']\n",
    "\n",
    "nombre_planeta = input(\"Agrega nombre de planeta inicia con mayusculas: \")\n",
    "\n",
    "# Busca el planeta en la lista\n",
    "\n",
    "planet_index = planets.index(nombre_planeta)\n",
    "\n",
    "print(\"Indice de planeta\",planet_index)\n",
    "\n",
    "\n",
    "# Muestra los planetas más cercanos al sol\n",
    "\n",
    "\n",
    "print('Planetas mas cercanos al sol antes de  ' + nombre_planeta)\n",
    "print(planets[0:planet_index])\n",
    "\n",
    "# Muestra los planetas más lejanos al sol\n",
    "\n",
    "print('Planetas mas lejanos al sol despues de' + nombre_planeta)\n",
    "print(planets[planet_index + 1:])"
   ]
  }
 ],
 "metadata": {
  "interpreter": {
   "hash": "48fe5cad91cff50253c274e0b51ab85747265d174788b96669a1d4e7fe36aff0"
  },
  "kernelspec": {
   "display_name": "Python 3.10.2 64-bit",
   "language": "python",
   "name": "python3"
  },
  "language_info": {
   "codemirror_mode": {
    "name": "ipython",
    "version": 3
   },
   "file_extension": ".py",
   "mimetype": "text/x-python",
   "name": "python",
   "nbconvert_exporter": "python",
   "pygments_lexer": "ipython3",
   "version": "3.10.2"
  },
  "orig_nbformat": 4
 },
 "nbformat": 4,
 "nbformat_minor": 2
}
